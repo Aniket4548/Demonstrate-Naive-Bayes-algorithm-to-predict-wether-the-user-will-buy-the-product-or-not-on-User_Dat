{
 "cells": [
  {
   "cell_type": "markdown",
   "id": "fb4de9a7",
   "metadata": {},
   "source": [
    "# Practical 23"
   ]
  },
  {
   "cell_type": "markdown",
   "id": "61ea2d1d",
   "metadata": {},
   "source": [
    "# Demonstrate Naive Bayes algorithm to predict wether the user will buy the product or not on User_Data. Compare the accuracy achieved with logistic regression and KNN"
   ]
  },
  {
   "cell_type": "code",
   "execution_count": 1,
   "id": "14834b6a",
   "metadata": {},
   "outputs": [],
   "source": [
    "# import the libraries\n",
    "import numpy as nm\n",
    "import matplotlib.pyplot as plt\n",
    "import pandas as pd"
   ]
  },
  {
   "cell_type": "code",
   "execution_count": 2,
   "id": "a38f2037",
   "metadata": {},
   "outputs": [],
   "source": [
    "data = pd.read_csv(r\"D:\\Machine Learning\\User_Data.csv\")  #import the dataset"
   ]
  },
  {
   "cell_type": "code",
   "execution_count": 3,
   "id": "c58774eb",
   "metadata": {},
   "outputs": [
    {
     "data": {
      "text/html": [
       "<div>\n",
       "<style scoped>\n",
       "    .dataframe tbody tr th:only-of-type {\n",
       "        vertical-align: middle;\n",
       "    }\n",
       "\n",
       "    .dataframe tbody tr th {\n",
       "        vertical-align: top;\n",
       "    }\n",
       "\n",
       "    .dataframe thead th {\n",
       "        text-align: right;\n",
       "    }\n",
       "</style>\n",
       "<table border=\"1\" class=\"dataframe\">\n",
       "  <thead>\n",
       "    <tr style=\"text-align: right;\">\n",
       "      <th></th>\n",
       "      <th>User ID</th>\n",
       "      <th>Gender</th>\n",
       "      <th>Age</th>\n",
       "      <th>EstimatedSalary</th>\n",
       "      <th>Purchased</th>\n",
       "    </tr>\n",
       "  </thead>\n",
       "  <tbody>\n",
       "    <tr>\n",
       "      <th>0</th>\n",
       "      <td>15624510</td>\n",
       "      <td>Male</td>\n",
       "      <td>19</td>\n",
       "      <td>19000</td>\n",
       "      <td>0</td>\n",
       "    </tr>\n",
       "    <tr>\n",
       "      <th>1</th>\n",
       "      <td>15810944</td>\n",
       "      <td>Male</td>\n",
       "      <td>35</td>\n",
       "      <td>20000</td>\n",
       "      <td>0</td>\n",
       "    </tr>\n",
       "    <tr>\n",
       "      <th>2</th>\n",
       "      <td>15668575</td>\n",
       "      <td>Female</td>\n",
       "      <td>26</td>\n",
       "      <td>43000</td>\n",
       "      <td>0</td>\n",
       "    </tr>\n",
       "    <tr>\n",
       "      <th>3</th>\n",
       "      <td>15603246</td>\n",
       "      <td>Female</td>\n",
       "      <td>27</td>\n",
       "      <td>57000</td>\n",
       "      <td>0</td>\n",
       "    </tr>\n",
       "    <tr>\n",
       "      <th>4</th>\n",
       "      <td>15804002</td>\n",
       "      <td>Male</td>\n",
       "      <td>19</td>\n",
       "      <td>76000</td>\n",
       "      <td>0</td>\n",
       "    </tr>\n",
       "  </tbody>\n",
       "</table>\n",
       "</div>"
      ],
      "text/plain": [
       "    User ID  Gender  Age  EstimatedSalary  Purchased\n",
       "0  15624510    Male   19            19000          0\n",
       "1  15810944    Male   35            20000          0\n",
       "2  15668575  Female   26            43000          0\n",
       "3  15603246  Female   27            57000          0\n",
       "4  15804002    Male   19            76000          0"
      ]
     },
     "execution_count": 3,
     "metadata": {},
     "output_type": "execute_result"
    }
   ],
   "source": [
    "data.head()"
   ]
  },
  {
   "cell_type": "code",
   "execution_count": 4,
   "id": "9654f7e4",
   "metadata": {},
   "outputs": [],
   "source": [
    "x = data.iloc[: , [2,3]].values  # independent fatures\n",
    "y = data.iloc[: , 4].values"
   ]
  },
  {
   "cell_type": "code",
   "execution_count": 5,
   "id": "411fa0b0",
   "metadata": {},
   "outputs": [],
   "source": [
    "from sklearn.model_selection import train_test_split\n",
    "xtrain, xtest, ytrain, ytest = train_test_split (x, y, test_size = 0.2, random_state = 4)"
   ]
  },
  {
   "cell_type": "code",
   "execution_count": 6,
   "id": "6c478157",
   "metadata": {
    "scrolled": true
   },
   "outputs": [
    {
     "data": {
      "text/plain": [
       "array([[-0.47385841, -0.29866616],\n",
       "       [-1.04895838,  0.3899427 ],\n",
       "       [-1.24065838,  0.47601881],\n",
       "       [ 0.00539156, -0.58558652],\n",
       "       [-1.04895838,  0.50471084],\n",
       "       [ 1.82654147, -1.27419538],\n",
       "       [ 0.77219152,  0.50471084],\n",
       "       [ 1.3472915 ,  1.93931264],\n",
       "       [ 1.05974151,  0.53340288],\n",
       "       [ 0.00539156, -0.55689448],\n",
       "       [ 0.00539156, -0.3273582 ],\n",
       "       [-1.04895838, -0.47081838],\n",
       "       [-1.24065838,  0.27517456],\n",
       "       [ 0.29294155, -0.29866616],\n",
       "       [ 0.29294155, -0.55689448],\n",
       "       [-0.37800842, -0.78643077],\n",
       "       [-1.14480838, -0.52820245],\n",
       "       [-1.14480838, -1.58980778],\n",
       "       [-1.33650837, -0.44212634],\n",
       "       [-1.33650837, -1.47503963],\n",
       "       [-0.18630843, -0.47081838],\n",
       "       [-0.95310839, -0.3273582 ],\n",
       "       [-1.91160834,  0.33255863],\n",
       "       [ 1.92239147,  0.7055551 ],\n",
       "       [ 0.29294155,  0.04563827],\n",
       "       [ 1.82654147,  1.48024007],\n",
       "       [-1.04895838,  0.73424713],\n",
       "       [ 0.19709155,  0.04563827],\n",
       "       [-1.71990835, -1.36027149],\n",
       "       [-0.28215842,  0.01694623],\n",
       "       [ 0.10124156, -0.3273582 ],\n",
       "       [ 0.77219152, -1.36027149],\n",
       "       [-1.62405836, -0.06912987],\n",
       "       [-0.7614084 ,  0.27517456],\n",
       "       [ 0.86804152, -0.67166263],\n",
       "       [-0.18630843,  0.13171438],\n",
       "       [ 1.53899149, -0.0117458 ],\n",
       "       [-1.14480838, -1.56111574],\n",
       "       [-0.28215842,  0.50471084],\n",
       "       [-0.56970841, -1.50373167],\n",
       "       [-0.18630843,  1.59500821],\n",
       "       [-1.14480838,  0.3899427 ],\n",
       "       [-1.71990835, -0.61427856],\n",
       "       [-0.95310839, -0.44212634],\n",
       "       [ 0.86804152, -1.4463476 ],\n",
       "       [ 0.19709155, -0.26997413],\n",
       "       [-0.85725839, -0.78643077],\n",
       "       [-0.09045843,  0.10302234],\n",
       "       [ 0.77219152,  0.24648252],\n",
       "       [ 0.38879154,  0.96378342],\n",
       "       [-0.28215842, -0.44212634],\n",
       "       [-1.14480838,  1.36547192],\n",
       "       [ 0.19709155, -0.67166263],\n",
       "       [ 2.01824146,  0.36125066],\n",
       "       [ 0.48464154,  1.79585246],\n",
       "       [-0.28215842, -1.30288742],\n",
       "       [ 0.00539156,  1.22201174],\n",
       "       [-0.7614084 , -0.24128209],\n",
       "       [ 0.10124156,  0.24648252],\n",
       "       [ 1.1555915 , -0.75773874],\n",
       "       [ 1.82654147, -1.07335113],\n",
       "       [ 1.1555915 , -1.4463476 ],\n",
       "       [-0.85725839, -0.67166263],\n",
       "       [-0.28215842, -0.35605023],\n",
       "       [-1.04895838,  0.56209492],\n",
       "       [ 0.00539156,  0.01694623],\n",
       "       [-1.52820836, -0.21259005],\n",
       "       [-1.81575835, -1.30288742],\n",
       "       [ 0.77219152,  0.10302234],\n",
       "       [ 1.05974151, -0.90119892],\n",
       "       [-1.52820836, -0.44212634],\n",
       "       [ 0.77219152,  1.33677989],\n",
       "       [ 0.19709155, -0.29866616],\n",
       "       [-0.09045843,  1.91062061],\n",
       "       [ 1.3472915 ,  2.28361707],\n",
       "       [-0.28215842, -0.49951041],\n",
       "       [ 0.29294155,  0.04563827],\n",
       "       [-1.81575835, -0.0117458 ],\n",
       "       [-0.09045843, -0.49951041],\n",
       "       [ 1.05974151,  0.44732677]])"
      ]
     },
     "execution_count": 6,
     "metadata": {},
     "output_type": "execute_result"
    }
   ],
   "source": [
    "from sklearn.preprocessing import StandardScaler  #scaling \n",
    "sc = StandardScaler()\n",
    "xtrain = sc.fit_transform(xtrain)  # Fit and transform training data\n",
    "xtest = sc.transform(xtest)  # Transform test data.\n",
    "xtest"
   ]
  },
  {
   "cell_type": "code",
   "execution_count": 7,
   "id": "7e524f43",
   "metadata": {
    "scrolled": true
   },
   "outputs": [
    {
     "data": {
      "text/plain": [
       "GaussianNB()"
      ]
     },
     "execution_count": 7,
     "metadata": {},
     "output_type": "execute_result"
    }
   ],
   "source": [
    "from sklearn.naive_bayes import GaussianNB\n",
    "classifier = GaussianNB()\n",
    "classifier.fit(xtrain, ytrain)"
   ]
  },
  {
   "cell_type": "code",
   "execution_count": 8,
   "id": "98d18bdc",
   "metadata": {},
   "outputs": [
    {
     "data": {
      "text/plain": [
       "array([0, 0, 0, 0, 0, 1, 1, 1, 1, 0, 0, 0, 0, 0, 0, 0, 0, 0, 0, 0, 0, 0,\n",
       "       0, 1, 0, 1, 0, 0, 0, 0, 0, 1, 0, 0, 1, 0, 1, 0, 0, 0, 1, 0, 0, 0,\n",
       "       1, 0, 0, 0, 1, 1, 0, 0, 0, 1, 1, 0, 1, 0, 0, 1, 1, 1, 0, 0, 0, 0,\n",
       "       0, 0, 1, 1, 0, 1, 0, 1, 1, 0, 0, 0, 0, 1], dtype=int64)"
      ]
     },
     "execution_count": 8,
     "metadata": {},
     "output_type": "execute_result"
    }
   ],
   "source": [
    "ypred = classifier.predict(xtest) \n",
    "ypred"
   ]
  },
  {
   "cell_type": "code",
   "execution_count": 9,
   "id": "e15bd303",
   "metadata": {},
   "outputs": [],
   "source": [
    "from sklearn.metrics import confusion_matrix\n",
    "cm = confusion_matrix(ytest ,ypred)"
   ]
  },
  {
   "cell_type": "code",
   "execution_count": 10,
   "id": "dcf70280",
   "metadata": {},
   "outputs": [
    {
     "name": "stdout",
     "output_type": "stream",
     "text": [
      "Confusion Matrix: \n",
      " [[54  5]\n",
      " [ 1 20]]\n",
      "Accuracy: \n",
      " 92.5\n",
      "Report: \n",
      "               precision    recall  f1-score   support\n",
      "\n",
      "           0       0.98      0.92      0.95        59\n",
      "           1       0.80      0.95      0.87        21\n",
      "\n",
      "    accuracy                           0.93        80\n",
      "   macro avg       0.89      0.93      0.91        80\n",
      "weighted avg       0.93      0.93      0.93        80\n",
      "\n"
     ]
    }
   ],
   "source": [
    "from sklearn.metrics import classification_report\n",
    "from sklearn.metrics import accuracy_score\n",
    "print(\"Confusion Matrix: \\n\", confusion_matrix(ytest, ypred))  # Creating the confusion matrix.\n",
    "print(\"Accuracy: \\n\", accuracy_score(ytest, ypred)*100)  # Finding the accuracy and report\n",
    "print(\"Report: \\n\", classification_report(ytest, ypred))"
   ]
  },
  {
   "cell_type": "code",
   "execution_count": 11,
   "id": "0a7da13e",
   "metadata": {},
   "outputs": [
    {
     "name": "stdout",
     "output_type": "stream",
     "text": [
      " Gaussian Naive Bayes model  Accuracy is:  92.5\n"
     ]
    }
   ],
   "source": [
    "print(\" Gaussian Naive Bayes model  Accuracy is: \", accuracy_score(ytest, ypred)*100)  "
   ]
  },
  {
   "cell_type": "markdown",
   "id": "75b4c573",
   "metadata": {},
   "source": [
    "#### Conclusion"
   ]
  },
  {
   "cell_type": "raw",
   "id": "fd58701e",
   "metadata": {},
   "source": [
    "In KNN the accuracy is 0.72\n",
    "In Logistic Regression the accuracy is 0.89\n",
    "In Naive bayes the accuracy is 0.92\n",
    "So we can conlude that for this dataset Naive bayes is preffered"
   ]
  }
 ],
 "metadata": {
  "kernelspec": {
   "display_name": "Python 3 (ipykernel)",
   "language": "python",
   "name": "python3"
  },
  "language_info": {
   "codemirror_mode": {
    "name": "ipython",
    "version": 3
   },
   "file_extension": ".py",
   "mimetype": "text/x-python",
   "name": "python",
   "nbconvert_exporter": "python",
   "pygments_lexer": "ipython3",
   "version": "3.9.13"
  }
 },
 "nbformat": 4,
 "nbformat_minor": 5
}
